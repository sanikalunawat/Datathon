{
  "cells": [
    {
      "cell_type": "code",
      "execution_count": null,
      "metadata": {
        "colab": {
          "base_uri": "https://localhost:8080/"
        },
        "id": "SGV81_41j4Rl",
        "outputId": "bad70c2f-e521-409d-a884-f698cfd0da7b"
      },
      "outputs": [
        {
          "name": "stdout",
          "output_type": "stream",
          "text": [
            "Transaction_ID        0\n",
            "Date                  0\n",
            "Time_of_Purchase      0\n",
            "Customer_ID           0\n",
            "Customer_Name         0\n",
            "Age                   0\n",
            "Gender                0\n",
            "Income_Level          0\n",
            "Visit_Frequency       0\n",
            "Customer_Category     0\n",
            "Loyalty_Member        0\n",
            "Products              0\n",
            "Product_Categories    0\n",
            "Total_Items           0\n",
            "Total_Cost            0\n",
            "Payment_Method        0\n",
            "Discount_Applied      0\n",
            "City                  0\n",
            "Region                0\n",
            "Store_Type            0\n",
            "Street                0\n",
            "Season                0\n",
            "Day_of_Week           0\n",
            "dtype: int64\n",
            "   Total_Cost\n",
            "0    0.295703\n",
            "1    0.383524\n",
            "2    0.525757\n",
            "3    0.470729\n",
            "4    0.295475\n"
          ]
        }
      ],
      "source": [
        "import pandas as pd\n",
        "from sklearn.model_selection import train_test_split\n",
        "from sklearn.preprocessing import LabelEncoder, MinMaxScaler\n",
        "from sklearn.impute import SimpleImputer\n",
        "\n",
        "df = pd.read_csv(\"dataset.csv\")\n",
        "\n",
        "print(df.isnull().sum())\n",
        "\n",
        "df = df.drop(columns=['Customer_Name', 'Customer_ID'])\n",
        "\n",
        "imputer = SimpleImputer(strategy='most_frequent')\n",
        "df['Age'] = imputer.fit_transform(df[['Age']])\n",
        "\n",
        "label_encoder = LabelEncoder()\n",
        "\n",
        "categorical_columns = ['Gender', 'Income_Level', 'Visit_Frequency', 'Customer_Category',\n",
        "                       'Loyalty_Member', 'Payment_Method', 'City', 'Region', 'Store_Type',\n",
        "                       'Season', 'Day_of_Week']\n",
        "for col in categorical_columns:\n",
        "    df[col] = label_encoder.fit_transform(df[col])\n",
        "\n",
        "df['Date'] = pd.to_datetime(df['Date'])\n",
        "df['Time_of_Purchase'] = pd.to_datetime(df['Time_of_Purchase'], format='%H:%M:%S').dt.time\n",
        "\n",
        "df['Month'] = df['Date'].dt.month\n",
        "df['Day_of_Year'] = df['Date'].dt.dayofyear\n",
        "\n",
        "scaler = MinMaxScaler()\n",
        "df['Total_Cost'] = scaler.fit_transform(df[['Total_Cost']])\n",
        "\n",
        "print(df[['Total_Cost']].head())\n"
      ]
    },
    {
      "cell_type": "code",
      "execution_count": null,
      "metadata": {
        "id": "A4rmWkXIkKc0"
      },
      "outputs": [],
      "source": [
        "X = df[['Age', 'Gender', 'Income_Level', 'Visit_Frequency', 'Customer_Category',\n",
        "        'Loyalty_Member', 'Total_Items', 'Discount_Applied', 'City', 'Region',\n",
        "        'Month', 'Day_of_Year']]\n",
        "\n",
        "y = df['Total_Cost']\n"
      ]
    },
    {
      "cell_type": "code",
      "execution_count": null,
      "metadata": {
        "colab": {
          "base_uri": "https://localhost:8080/"
        },
        "id": "7tew1Hq5lOtf",
        "outputId": "0b0c7789-3511-43c6-e9ce-383098487cdf"
      },
      "outputs": [
        {
          "name": "stdout",
          "output_type": "stream",
          "text": [
            "Mean Absolute Error: 0.10197942040480469\n",
            "Mean Squared Error: 0.016289736725784\n",
            "Root Mean Squared Error: 0.12763125293510208\n"
          ]
        }
      ],
      "source": [
        "from sklearn.ensemble import RandomForestRegressor\n",
        "from sklearn.metrics import mean_absolute_error, mean_squared_error\n",
        "import numpy as np\n",
        "\n",
        "X_train, X_test, y_train, y_test = train_test_split(X, y, test_size=0.2, random_state=42)\n",
        "\n",
        "model = RandomForestRegressor(n_estimators=100, random_state=42)\n",
        "model.fit(X_train, y_train)\n",
        "\n",
        "y_pred = model.predict(X_test)\n",
        "\n",
        "mae = mean_absolute_error(y_test, y_pred)\n",
        "mse = mean_squared_error(y_test, y_pred)\n",
        "rmse = np.sqrt(mse)\n",
        "\n",
        "print(f'Mean Absolute Error: {mae}')\n",
        "print(f'Mean Squared Error: {mse}')\n",
        "print(f'Root Mean Squared Error: {rmse}')\n"
      ]
    }
  ],
  "metadata": {
    "colab": {
      "provenance": []
    },
    "kernelspec": {
      "display_name": "Python 3",
      "name": "python3"
    },
    "language_info": {
      "name": "python"
    }
  },
  "nbformat": 4,
  "nbformat_minor": 0
}
